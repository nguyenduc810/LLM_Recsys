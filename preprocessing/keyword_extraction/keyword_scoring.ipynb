{
 "cells": [
  {
   "cell_type": "markdown",
   "metadata": {},
   "source": [
    "# IRF (Inversed Restaurant Frequency)\n",
    "- How many restaurants having this keyword in its reviews? \n",
    "- The higher the lower IRF score\n",
    "- Words appearing in many restaurants doesn't convey much information \n",
    "- This is to choose keywords when testing for cold-start users, i.e., which keywords should be used\n",
    "- The computation is based on information from the train set \n"
   ]
  },
  {
   "cell_type": "code",
   "execution_count": 1,
   "metadata": {},
   "outputs": [],
   "source": [
    "import os \n",
    "import numpy as np\n",
    "import json\n",
    "from pprint import pprint "
   ]
  },
  {
   "cell_type": "code",
   "execution_count": 9,
   "metadata": {},
   "outputs": [],
   "source": [
    "def compute_irf(num, N=1000):\n",
    "    return np.log(N/num)\n",
    "\n",
    "\n",
    "def compute_irf_for_dir(idir, odir, N=1000):\n",
    "    for fname in os.listdir(idir):\n",
    "        # print(fname)\n",
    "        if fname.startswith(\".\") or not fname.endswith(\".json\"):\n",
    "            continue \n",
    "        # print(fname)\n",
    "        ifile = os.path.join(idir, fname)\n",
    "        # print(ifile)\n",
    "        ofile = os.path.join(odir, fname)\n",
    "        dt = json.load(open(ifile))['np2rests']\n",
    "        np2irf = {} \n",
    "        for n, r in dt.items():\n",
    "            np2irf[n] = compute_irf(len(r), N=N)\n",
    "        json.dump(np2irf, open(ofile, 'w'))\n",
    "        print(\"Saved to\", ofile)"
   ]
  },
  {
   "cell_type": "code",
   "execution_count": 10,
   "metadata": {},
   "outputs": [
    {
     "name": "stdout",
     "output_type": "stream",
     "text": [
      "Saved to /home/ubuntu/duc.nm195858/keyext_LLM/preprocessed/by_city-users_min_3_reviews/keywords_IRF/phoenix-keywords.json\n",
      "Saved to /home/ubuntu/duc.nm195858/keyext_LLM/preprocessed/by_city-users_min_3_reviews/keywords_IRF/edinburgh-keywords.json\n",
      "Saved to /home/ubuntu/duc.nm195858/keyext_LLM/preprocessed/by_city-users_min_3_reviews/keywords_IRF/london-keywords.json\n",
      "Saved to /home/ubuntu/duc.nm195858/keyext_LLM/preprocessed/by_city-users_min_3_reviews/keywords_IRF/charlotte-keywords.json\n",
      "Saved to /home/ubuntu/duc.nm195858/keyext_LLM/preprocessed/by_city-users_min_3_reviews/keywords_IRF/lasvegas-keywords.json\n",
      "Saved to /home/ubuntu/duc.nm195858/keyext_LLM/preprocessed/by_city-users_min_3_reviews/keywords_IRF/singapore-keywords.json\n",
      "Saved to /home/ubuntu/duc.nm195858/keyext_LLM/preprocessed/by_city-users_min_3_reviews/keywords_IRF/pittsburgh-keywords.json\n"
     ]
    }
   ],
   "source": [
    "idir = '/home/ubuntu/duc.nm195858/keyext_LLM/preprocessed/by_city-users_min_3_reviews/keywords_spacy/train'\n",
    "odir = '/home/ubuntu/duc.nm195858/keyext_LLM/preprocessed/by_city-users_min_3_reviews/keywords_IRF'\n",
    "\n",
    "compute_irf_for_dir(idir, odir, N=1000)"
   ]
  },
  {
   "cell_type": "code",
   "execution_count": 14,
   "metadata": {},
   "outputs": [
    {
     "name": "stdout",
     "output_type": "stream",
     "text": [
      "[('big supporter', 6.907755278982137),\n",
      " ('wolf', 6.907755278982137),\n",
      " ('buger fix', 6.907755278982137),\n",
      " ('soggy burger', 6.907755278982137),\n",
      " ('wolf standard', 6.907755278982137),\n",
      " ('meat rest', 6.907755278982137),\n",
      " ('ussue', 6.907755278982137),\n",
      " ('soggy french dip burger', 6.907755278982137),\n",
      " ('message email', 6.907755278982137),\n",
      " ('biz owner', 6.907755278982137),\n",
      " ('customer feedback', 6.907755278982137),\n",
      " ('wolf gospel', 6.907755278982137),\n",
      " ('sep 29th', 6.907755278982137),\n",
      " ('usual double', 6.907755278982137),\n",
      " ('shroom', 6.907755278982137),\n",
      " ('sweet potatoe fries', 6.907755278982137),\n",
      " ('pasarbella enclave', 6.907755278982137),\n",
      " ('crafted burgers', 6.907755278982137),\n",
      " ('mushroom burger patty', 6.907755278982137),\n",
      " ('melted cheers', 6.907755278982137),\n",
      " ('sliced sautéed mushroom', 6.907755278982137),\n",
      " ('puffy light bun', 6.907755278982137),\n",
      " ('buttermilk chicken burger', 6.907755278982137),\n",
      " ('outside succulent', 6.907755278982137),\n",
      " ('new go to burger place', 6.907755278982137),\n",
      " ('fun burger place', 6.907755278982137),\n",
      " ('suntec pasarbella!i', 6.907755278982137),\n",
      " ('wolf burger', 6.907755278982137),\n",
      " ('alpha burger', 6.907755278982137),\n",
      " ('different beef', 6.907755278982137),\n",
      " ('pregnancy precautions', 6.907755278982137),\n",
      " ('more turnover', 6.907755278982137),\n",
      " ('generic frozen kind', 6.907755278982137),\n",
      " ('wolf burgers', 6.907755278982137),\n",
      " ('favourite burgers', 6.907755278982137),\n",
      " ('salted egg mayo', 6.907755278982137),\n",
      " ('homemade slaw', 6.907755278982137),\n",
      " ('other chicken type burgers', 6.907755278982137),\n",
      " ('holy', 6.907755278982137),\n",
      " ('magic shrromz burger', 6.907755278982137),\n",
      " ('truck', 6.907755278982137),\n",
      " ('salted egg yolk butter milk fried chicken', 6.907755278982137),\n",
      " ('salted egg yolks', 6.907755278982137),\n",
      " ('basic eatery', 6.907755278982137),\n",
      " ('best fresh noodles', 6.907755278982137),\n",
      " ('same training', 6.907755278982137),\n",
      " ('master therapists', 6.907755278982137),\n",
      " ('footworks', 6.907755278982137),\n",
      " ('dry prawn noodles love', 6.907755278982137),\n",
      " ('many strips', 6.907755278982137),\n",
      " ('giant wonton', 6.907755278982137),\n",
      " ('x3', 6.907755278982137),\n",
      " ('none tables', 6.907755278982137),\n",
      " ('indo friend', 6.907755278982137),\n",
      " ('chicken bakmie', 6.907755278982137),\n",
      " ('favorite indo noodle dish', 6.907755278982137),\n",
      " ('close replica', 6.907755278982137),\n",
      " ('juicy mushrooms', 6.907755278982137),\n",
      " ('pretty small pieces', 6.907755278982137),\n",
      " ('usual clear soup', 6.907755278982137),\n",
      " ('extra moolah', 6.907755278982137),\n",
      " ('own egg noodles', 6.907755278982137),\n",
      " ('more sides', 6.907755278982137),\n",
      " ('next time giant fried wantons', 6.907755278982137),\n",
      " ('lemongrass soda', 6.907755278982137),\n",
      " ('avocado drink', 6.907755278982137),\n",
      " ('open dining', 6.907755278982137),\n",
      " ('topup menu', 6.907755278982137),\n",
      " ('weekday set meal', 6.907755278982137),\n",
      " ('9.90)today', 6.907755278982137),\n",
      " ('usual 7.90)the noodle', 6.907755278982137),\n",
      " ('qq texture', 6.907755278982137),\n",
      " ('usual wanton type', 6.907755278982137),\n",
      " ('indonesian style', 6.907755278982137),\n",
      " ('saladthe', 6.907755278982137),\n",
      " ('sago pudding dessert', 6.907755278982137),\n",
      " ('non - msg noodle', 6.907755278982137),\n",
      " ('shaw theatres', 6.907755278982137),\n",
      " ('eye catching décor', 6.907755278982137),\n",
      " ('dreamy eye bulbs', 6.907755278982137),\n",
      " ('double roast', 6.907755278982137),\n",
      " ('lor bah noodle', 6.907755278982137),\n",
      " ('thumbnail photo', 6.907755278982137),\n",
      " ('noodle strings', 6.907755278982137),\n",
      " ('balanced noodle bowl', 6.907755278982137),\n",
      " ('charsiu meat', 6.907755278982137),\n",
      " ('super crispy roasted skin', 6.907755278982137),\n",
      " ('mushroom noodle', 6.907755278982137),\n",
      " ('tasty affordable option', 6.907755278982137),\n",
      " ('menu)read', 6.907755278982137),\n",
      " ('times takeaways', 6.907755278982137),\n",
      " ('thursday am', 6.907755278982137),\n",
      " ('fried flour', 6.907755278982137),\n",
      " ('takeaway portion', 6.907755278982137),\n",
      " ('christmas promotion', 6.907755278982137),\n",
      " ('crispy duck noodles', 6.907755278982137),\n",
      " ('gula melaka base', 6.907755278982137),\n",
      " ('khek noodles', 6.907755278982137),\n",
      " ('medan', 6.907755278982137),\n",
      " ('taste sour spicy mix', 6.907755278982137)]\n"
     ]
    }
   ],
   "source": [
    "# analyzing irf \n",
    "dt = json.load(open('/home/ubuntu/duc.nm195858/keyext_LLM/preprocessed/by_city-users_min_3_reviews/keywords_IRF/singapore-keywords.json'))\n",
    "s = sorted(dt.items(), key=lambda x: x[1], reverse=True)\n",
    "pprint(s[:100])"
   ]
  }
 ],
 "metadata": {
  "kernelspec": {
   "display_name": "local-venv",
   "language": "python",
   "name": "local-venv"
  },
  "language_info": {
   "codemirror_mode": {
    "name": "ipython",
    "version": 3
   },
   "file_extension": ".py",
   "mimetype": "text/x-python",
   "name": "python",
   "nbconvert_exporter": "python",
   "pygments_lexer": "ipython3",
   "version": "3.9.12"
  },
  "orig_nbformat": 4
 },
 "nbformat": 4,
 "nbformat_minor": 2
}
