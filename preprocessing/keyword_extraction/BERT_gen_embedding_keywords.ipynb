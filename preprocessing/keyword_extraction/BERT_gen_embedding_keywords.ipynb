{
 "cells": [
  {
   "cell_type": "code",
   "execution_count": 1,
   "metadata": {},
   "outputs": [
    {
     "data": {
      "application/vnd.jupyter.widget-view+json": {
       "model_id": "5db5587cfb844b889732920c62307b8d",
       "version_major": 2,
       "version_minor": 0
      },
      "text/plain": [
       "Downloading (…)okenizer_config.json:   0%|          | 0.00/28.0 [00:00<?, ?B/s]"
      ]
     },
     "metadata": {},
     "output_type": "display_data"
    },
    {
     "data": {
      "application/vnd.jupyter.widget-view+json": {
       "model_id": "42e9012da71945519ffbf0f246cf7fcd",
       "version_major": 2,
       "version_minor": 0
      },
      "text/plain": [
       "Downloading (…)solve/main/vocab.txt:   0%|          | 0.00/232k [00:00<?, ?B/s]"
      ]
     },
     "metadata": {},
     "output_type": "display_data"
    },
    {
     "data": {
      "application/vnd.jupyter.widget-view+json": {
       "model_id": "a4c9d0eeb1484e8bba89529375e01708",
       "version_major": 2,
       "version_minor": 0
      },
      "text/plain": [
       "Downloading (…)/main/tokenizer.json:   0%|          | 0.00/466k [00:00<?, ?B/s]"
      ]
     },
     "metadata": {},
     "output_type": "display_data"
    },
    {
     "data": {
      "application/vnd.jupyter.widget-view+json": {
       "model_id": "e9fdd5c120024a8b91949970d1e76db5",
       "version_major": 2,
       "version_minor": 0
      },
      "text/plain": [
       "Downloading (…)lve/main/config.json:   0%|          | 0.00/570 [00:00<?, ?B/s]"
      ]
     },
     "metadata": {},
     "output_type": "display_data"
    }
   ],
   "source": [
    "import torch\n",
    "from transformers import BertTokenizer, BertModel\n",
    "\n",
    "# OPTIONAL: if you want to have more information on what's happening, activate the logger as follows\n",
    "import logging\n",
    "#logging.basicConfig(level=logging.INFO)\n",
    "\n",
    "import matplotlib.pyplot as plt\n",
    "# % matplotlib inline\n",
    "\n",
    "# Load pre-trained model tokenizer (vocabulary)\n",
    "tokenizer = BertTokenizer.from_pretrained('bert-base-uncased')"
   ]
  },
  {
   "cell_type": "code",
   "execution_count": 4,
   "metadata": {},
   "outputs": [],
   "source": [
    "text = \"I love natural language processing. It's a fascinating field.\"\n",
    "tokens = tokenizer.tokenize(tokenizer.decode(tokenizer.encode(text)))\n",
    "\n",
    "# Add special tokens [CLS] and [SEP]\n",
    "# tokens = ['[CLS]'] + tokens + ['[SEP]']"
   ]
  },
  {
   "cell_type": "markdown",
   "metadata": {},
   "source": [
    " # Input data"
   ]
  },
  {
   "cell_type": "code",
   "execution_count": 6,
   "metadata": {},
   "outputs": [],
   "source": [
    "import pandas as pd\n",
    "\n",
    "data = pd.read_csv(\"/home/ubuntu/duc.nm195858/keyext_LLM/reviews/singapore.csv\")"
   ]
  },
  {
   "cell_type": "code",
   "execution_count": 21,
   "metadata": {},
   "outputs": [],
   "source": [
    "# data['text'][0]\n",
    "texts = data['text'][0].strip().split('.')\n",
    "# for text in texts:\n",
    "\n",
    "# tokens = tokenizer.tokenize(tokenizer.decode(tokenizer.encode(text)))\n"
   ]
  },
  {
   "cell_type": "code",
   "execution_count": 24,
   "metadata": {},
   "outputs": [],
   "source": [
    "for i,text in enumerate(texts):\n",
    "  if i == 0:\n",
    "    marked_text = \"[CLS] \" + text + \" [SEP]\"\n",
    "  else:\n",
    "    marked_text += text +\" [SEP]\""
   ]
  },
  {
   "cell_type": "code",
   "execution_count": 25,
   "metadata": {},
   "outputs": [
    {
     "data": {
      "text/plain": [
       "\"[CLS] always been a big supporter of wolf [SEP] \\xa0 would drive distant to get my buger fix [SEP] \\xa0 today was just a big disappointment [SEP] \\xa0got a soggy burger unlike wolf's standard [SEP] \\xa0 whoever cooked the burger needs to be retrained [SEP] \\xa0 not letting the meat rest could be the ussue here [SEP] \\xa09/4Well i previously gave a 1 star due to an absolutely soggy french dip burger but got a message/email from the owner himself inviting to make good and make good they did!!! Kudos to a biz/owner that can be bothered with customer feedback [SEP] \\xa0Really do appreciate the boss taking the initiative to engage the customer and for that not only he won back a loyal customer and i am sure i shall be spreading the Wolf Gospel so to speak - thank you [SEP]Sep 29th '18Checked in again for the usual Double and Shroom with Sweet potatoe fries [SEP] \\xa0 Glad to report all good [SEP] [SEP]\""
      ]
     },
     "execution_count": 25,
     "metadata": {},
     "output_type": "execute_result"
    }
   ],
   "source": [
    "marked_text"
   ]
  },
  {
   "cell_type": "code",
   "execution_count": 26,
   "metadata": {},
   "outputs": [
    {
     "name": "stdout",
     "output_type": "stream",
     "text": [
      "[CLS]           101\n",
      "always        2,467\n",
      "been          2,042\n",
      "a             1,037\n",
      "big           2,502\n",
      "supporter    10,129\n",
      "of            1,997\n",
      "wolf          4,702\n",
      "[SEP]           102\n",
      "would         2,052\n",
      "drive         3,298\n",
      "distant       6,802\n",
      "to            2,000\n",
      "get           2,131\n",
      "my            2,026\n",
      "bug          11,829\n",
      "##er          2,121\n",
      "fix           8,081\n",
      "[SEP]           102\n",
      "today         2,651\n",
      "was           2,001\n",
      "just          2,074\n",
      "a             1,037\n",
      "big           2,502\n",
      "disappointment 10,520\n",
      "[SEP]           102\n",
      "got           2,288\n",
      "a             1,037\n",
      "so            2,061\n",
      "##ggy        22,772\n",
      "burger       15,890\n",
      "unlike        4,406\n",
      "wolf          4,702\n",
      "'             1,005\n",
      "s             1,055\n",
      "standard      3,115\n",
      "[SEP]           102\n",
      "whoever       9,444\n",
      "cooked       12,984\n",
      "the           1,996\n",
      "burger       15,890\n",
      "needs         3,791\n",
      "to            2,000\n",
      "be            2,022\n",
      "re            2,128\n",
      "##train      23,654\n",
      "##ed          2,098\n",
      "[SEP]           102\n",
      "not           2,025\n",
      "letting       5,599\n",
      "the           1,996\n",
      "meat          6,240\n",
      "rest          2,717\n",
      "could         2,071\n",
      "be            2,022\n",
      "the           1,996\n",
      "uss           7,234\n",
      "##ue          5,657\n",
      "here          2,182\n",
      "[SEP]           102\n",
      "9             1,023\n",
      "/             1,013\n",
      "4             1,018\n",
      "##well        4,381\n",
      "i             1,045\n",
      "previously    3,130\n",
      "gave          2,435\n",
      "a             1,037\n",
      "1             1,015\n",
      "star          2,732\n",
      "due           2,349\n",
      "to            2,000\n",
      "an            2,019\n",
      "absolutely    7,078\n",
      "so            2,061\n",
      "##ggy        22,772\n",
      "french        2,413\n",
      "dip          16,510\n",
      "burger       15,890\n",
      "but           2,021\n",
      "got           2,288\n",
      "a             1,037\n",
      "message       4,471\n",
      "/             1,013\n",
      "email        10,373\n",
      "from          2,013\n",
      "the           1,996\n",
      "owner         3,954\n",
      "himself       2,370\n",
      "inviting     15,085\n",
      "to            2,000\n",
      "make          2,191\n",
      "good          2,204\n",
      "and           1,998\n",
      "make          2,191\n",
      "good          2,204\n",
      "they          2,027\n",
      "did           2,106\n",
      "!               999\n",
      "!               999\n",
      "!               999\n",
      "ku           13,970\n",
      "##dos        12,269\n",
      "to            2,000\n",
      "a             1,037\n",
      "bi           12,170\n",
      "##z           2,480\n",
      "/             1,013\n",
      "owner         3,954\n",
      "that          2,008\n",
      "can           2,064\n",
      "be            2,022\n",
      "bothered     11,250\n",
      "with          2,007\n",
      "customer      8,013\n",
      "feedback     12,247\n",
      "[SEP]           102\n",
      "really        2,428\n",
      "do            2,079\n",
      "appreciate    9,120\n",
      "the           1,996\n",
      "boss          5,795\n",
      "taking        2,635\n",
      "the           1,996\n",
      "initiative    6,349\n",
      "to            2,000\n",
      "engage        8,526\n",
      "the           1,996\n",
      "customer      8,013\n",
      "and           1,998\n",
      "for           2,005\n",
      "that          2,008\n",
      "not           2,025\n",
      "only          2,069\n",
      "he            2,002\n",
      "won           2,180\n",
      "back          2,067\n",
      "a             1,037\n",
      "loyal         8,884\n",
      "customer      8,013\n",
      "and           1,998\n",
      "i             1,045\n",
      "am            2,572\n",
      "sure          2,469\n",
      "i             1,045\n",
      "shall         4,618\n",
      "be            2,022\n",
      "spreading     9,359\n",
      "the           1,996\n",
      "wolf          4,702\n",
      "gospel        8,036\n",
      "so            2,061\n",
      "to            2,000\n",
      "speak         3,713\n",
      "-             1,011\n",
      "thank         4,067\n",
      "you           2,017\n",
      "[SEP]           102\n",
      "sep          19,802\n",
      "29th         16,318\n",
      "'             1,005\n",
      "18            2,324\n",
      "##che         5,403\n",
      "##cked       18,141\n",
      "in            1,999\n",
      "again         2,153\n",
      "for           2,005\n",
      "the           1,996\n",
      "usual         5,156\n",
      "double        3,313\n",
      "and           1,998\n",
      "sh           14,021\n",
      "##room        9,954\n",
      "with          2,007\n",
      "sweet         4,086\n",
      "potato       14,557\n",
      "##e           2,063\n",
      "fries        22,201\n",
      "[SEP]           102\n",
      "glad          5,580\n",
      "to            2,000\n",
      "report        3,189\n",
      "all           2,035\n",
      "good          2,204\n",
      "[SEP]           102\n",
      "[SEP]           102\n"
     ]
    }
   ],
   "source": [
    "# Split the sentence into tokens.\n",
    "tokenized_text = tokenizer.tokenize(marked_text)\n",
    "\n",
    "# Map the token strings to their vocabulary indeces.\n",
    "indexed_tokens = tokenizer.convert_tokens_to_ids(tokenized_text)\n",
    "\n",
    "# Display the words with their indeces.\n",
    "for tup in zip(tokenized_text, indexed_tokens):\n",
    "    print('{:<12} {:>6,}'.format(tup[0], tup[1]))"
   ]
  },
  {
   "cell_type": "code",
   "execution_count": 42,
   "metadata": {},
   "outputs": [],
   "source": [
    "word_index = tokenized_text.index('##er')"
   ]
  },
  {
   "cell_type": "code",
   "execution_count": 43,
   "metadata": {},
   "outputs": [
    {
     "data": {
      "text/plain": [
       "16"
      ]
     },
     "execution_count": 43,
     "metadata": {},
     "output_type": "execute_result"
    }
   ],
   "source": [
    "word_index"
   ]
  },
  {
   "cell_type": "code",
   "execution_count": 27,
   "metadata": {},
   "outputs": [],
   "source": [
    "tokens_tensor = torch.tensor([indexed_tokens])"
   ]
  },
  {
   "cell_type": "code",
   "execution_count": null,
   "metadata": {},
   "outputs": [],
   "source": [
    "# Load pre-trained model (weights)\n",
    "model = BertModel.from_pretrained('bert-base-uncased',\n",
    "                                  output_hidden_states = True, # Whether the model returns all hidden-states.\n",
    "                                  )\n",
    "\n",
    "# Put the model in \"evaluation\" mode, meaning feed-forward operation.\n",
    "model.eval()\n"
   ]
  },
  {
   "cell_type": "code",
   "execution_count": 30,
   "metadata": {},
   "outputs": [],
   "source": [
    "# Run the text through BERT, and collect all of the hidden states produced\n",
    "# from all 12 layers. \n",
    "with torch.no_grad():\n",
    "\n",
    "    outputs = model(tokens_tensor) #, segments_tensors)\n",
    "\n",
    "    # Evaluating the model will return a different number of objects based on \n",
    "    # how it's  configured in the `from_pretrained` call earlier. In this case, \n",
    "    # becase we set `output_hidden_states = True`, the third item will be the \n",
    "    # hidden states from all layers. See the documentation for more details:\n",
    "    # https://huggingface.co/transformers/model_doc/bert.html#bertmodel\n",
    "    hidden_states = outputs[2]"
   ]
  },
  {
   "cell_type": "code",
   "execution_count": 32,
   "metadata": {},
   "outputs": [
    {
     "name": "stdout",
     "output_type": "stream",
     "text": [
      "Number of layers: 13   (initial embeddings + 12 BERT layers)\n",
      "Number of batches: 1\n",
      "Number of tokens: 186\n",
      "Number of hidden units: 768\n"
     ]
    }
   ],
   "source": [
    "print (\"Number of layers:\", len(hidden_states), \"  (initial embeddings + 12 BERT layers)\")\n",
    "layer_i = 0\n",
    "\n",
    "print (\"Number of batches:\", len(hidden_states[layer_i]))\n",
    "batch_i = 0\n",
    "\n",
    "print (\"Number of tokens:\", len(hidden_states[layer_i][batch_i]))\n",
    "token_i = 0\n",
    "\n",
    "print (\"Number of hidden units:\", len(hidden_states[layer_i][batch_i][token_i]))"
   ]
  },
  {
   "cell_type": "code",
   "execution_count": 33,
   "metadata": {},
   "outputs": [
    {
     "data": {
      "image/png": "[encoded data removed]",
      "text/plain": [
       "<Figure size 1000x1000 with 1 Axes>"
      ]
     },
     "metadata": {},
     "output_type": "display_data"
    }
   ],
   "source": [
    "# For the 5th token in our sentence, select its feature values from layer 5.\n",
    "token_i = 5\n",
    "layer_i = 5\n",
    "vec = hidden_states[layer_i][batch_i][token_i]\n",
    "\n",
    "# Plot the values as a histogram to show their distribution.\n",
    "plt.figure(figsize=(10,10))\n",
    "plt.hist(vec, bins=200)\n",
    "plt.show()"
   ]
  }
 ],
 "metadata": {
  "kernelspec": {
   "display_name": "local-venv",
   "language": "python",
   "name": "local-venv"
  },
  "language_info": {
   "codemirror_mode": {
    "name": "ipython",
    "version": 3
   },
   "file_extension": ".py",
   "mimetype": "text/x-python",
   "name": "python",
   "nbconvert_exporter": "python",
   "pygments_lexer": "ipython3",
   "version": "3.9.12"
  }
 },
 "nbformat": 4,
 "nbformat_minor": 2
}
